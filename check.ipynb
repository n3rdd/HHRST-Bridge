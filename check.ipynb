{
 "cells": [
  {
   "cell_type": "code",
   "execution_count": 12,
   "metadata": {},
   "outputs": [
    {
     "name": "stdout",
     "output_type": "stream",
     "text": [
      "The autoreload extension is already loaded. To reload it, use:\n",
      "  %reload_ext autoreload\n"
     ]
    }
   ],
   "source": [
    "from collections import OrderedDict\n",
    "\n",
    "import numpy as np\n",
    "import json\n",
    "\n",
    "from bridge_base import ZkLoad\n",
    "from bridge import Bridge_160\n",
    "from checker import Checker\n",
    "\n",
    "%load_ext autoreload\n",
    "%autoreload 2"
   ]
  },
  {
   "cell_type": "markdown",
   "metadata": {},
   "source": [
    "### 载入数据"
   ]
  },
  {
   "cell_type": "code",
   "execution_count": 7,
   "metadata": {},
   "outputs": [],
   "source": [
    "# 常量\n",
    "E = 21 * 10**10           # 杨氏模量 (Pa)\n",
    "P = 1                     # 外力    (kN)\n",
    "h = 2.52                  # 恒载    (kN)\n",
    "\n",
    "bottom_chord_length = 8.   # 下弦杆长度/下节点间距 (m)\n",
    "\n",
    "bridge_len = 160\n",
    "\n",
    "# [1, 3, 5, 7, 9, 11, 13, 15, 17, 19, 21, 23, 25, 27, 29, 31, 33, 35, 37, 39, 40]\n",
    "bottom_chord_nodes_nums = list(range(1, 40, 2)) + [40]\n",
    "\n",
    "zk_load = ZkLoad(bridge_len)\n",
    "path = './data/'\n",
    "\n",
    "bridge = Bridge_160()\n",
    "bridge.load_data(path)\n",
    "bridge.load_params(E=E, P=P, h=h, \n",
    "                   bottom_chord_nodes_nums=bottom_chord_nodes_nums,\n",
    "                   bottom_chord_length=bottom_chord_length, \n",
    "                   load=zk_load)\n",
    "\n",
    "\n",
    "# 杆件分组文件\n",
    "with open('units_clusters.json', 'r') as units_clusters_file:\n",
    "    units_clusters = json.load(units_clusters_file)"
   ]
  },
  {
   "cell_type": "code",
   "execution_count": 14,
   "metadata": {},
   "outputs": [],
   "source": [
    "# b = 2 * t1 + b2 = 0.46\n",
    "# h = 2 * b1 + t2 = 0.76\n",
    "B = {\n",
    "    '0':  0.46, \n",
    "    '1':  0.46, \n",
    "    '2':  0.46, \n",
    "    '3':  0.46,\n",
    "    '4':  0.46, \n",
    "    '5':  0.46, \n",
    "    '6':  0.46\n",
    "}\n",
    "\n",
    "T1 = {\n",
    "    '0':  0.022,  \n",
    "    '1':  0.022,  \n",
    "    '2':  0.022, \n",
    "    '3':  0.022,\n",
    "    '4':  0.022, \n",
    "    '5':  0.022, \n",
    "    '6':  0.022 \n",
    "}\n",
    "\n",
    "\n",
    "H = {\n",
    "    '0':  0.60,  \n",
    "    '1':  0.76,  \n",
    "    '2':  0.44, \n",
    "    '3':  0.44,\n",
    "    '4':  0.76, \n",
    "    '5':  0.60, \n",
    "    '6':  0.60 \n",
    "}\n",
    "\n",
    "\n",
    "T2 = {\n",
    "    '0':  0.022,  \n",
    "    '1':  0.022,  \n",
    "    '2':  0.022, \n",
    "    '3':  0.022,\n",
    "    '4':  0.022, \n",
    "    '5':  0.022, \n",
    "    '6':  0.022 \n",
    "}"
   ]
  },
  {
   "cell_type": "code",
   "execution_count": 9,
   "metadata": {},
   "outputs": [
    {
     "data": {
      "text/plain": [
       "{'0': [2, 5, 6, 13, 17, 25, 26, 28, 30, 32, 40, 45, 50, 54, 58, 62, 66, 70],\n",
       " '1': [38, 42],\n",
       " '2': [1, 4, 8, 9, 21, 29, 34, 43, 47, 51, 55, 59, 63, 67, 71, 75],\n",
       " '3': [3, 7, 11, 15, 19, 23, 27, 31, 35, 39, 52, 56, 60, 64],\n",
       " '4': [37, 46, 49, 57, 68, 69, 72, 76],\n",
       " '5': [10, 14, 18, 22, 33, 36, 41],\n",
       " '6': [12, 16, 20, 24, 44, 48, 53, 61, 65, 73, 74, 77]}"
      ]
     },
     "execution_count": 9,
     "metadata": {},
     "output_type": "execute_result"
    }
   ],
   "source": [
    "units_clusters"
   ]
  },
  {
   "cell_type": "markdown",
   "metadata": {},
   "source": [
    "### 创建检算器"
   ]
  },
  {
   "cell_type": "code",
   "execution_count": 18,
   "metadata": {},
   "outputs": [],
   "source": [
    "bridge.check()\n",
    "checker = Checker(bridge)"
   ]
  },
  {
   "cell_type": "markdown",
   "metadata": {},
   "source": [
    "### 更新截面参数"
   ]
  },
  {
   "cell_type": "code",
   "execution_count": 19,
   "metadata": {},
   "outputs": [
    {
     "name": "stdout",
     "output_type": "stream",
     "text": [
      "检算 => 所有单元 [单元刚度矩阵] 已重新计算.\n",
      "检算 => 所有单元 [毛面积] 已重新计算.\n",
      "检算 => [总体刚度矩阵] 已重新计算.\n",
      "检算 => [缩减刚度矩阵] 已重新计算.\n",
      "所有节点竖向位移已计算完毕.\n",
      "所有杆件单元轴力已计算完毕.\n",
      "所有零杆已标识.\n",
      "所有杆件单元最不利荷载已计算完毕.\n",
      "所有杆件单元最不利位移已计算完毕.\n"
     ]
    }
   ],
   "source": [
    "for label, units_cluster in units_clusters.items():\n",
    "    # 每一类的参数\n",
    "    b, t1 = B[label], T1[label]\n",
    "    b2 = b - 2 * t1\n",
    "    \n",
    "    h, t2 = H[label], T2[label]\n",
    "    b1 = (h - t2) / 2\n",
    "    \n",
    "    section_params = [b2, t1, t2, b1]\n",
    "    bridge.set_section_params(units_cluster, section_params)          \n",
    "\n",
    "bridge.update()"
   ]
  },
  {
   "cell_type": "markdown",
   "metadata": {},
   "source": [
    "### 检算"
   ]
  },
  {
   "cell_type": "code",
   "execution_count": 23,
   "metadata": {},
   "outputs": [
    {
     "ename": "AttributeError",
     "evalue": "'Checker' object has no attribute 'h'",
     "output_type": "error",
     "traceback": [
      "\u001b[0;31m---------------------------------------------------------------------------\u001b[0m",
      "\u001b[0;31mAttributeError\u001b[0m                            Traceback (most recent call last)",
      "\u001b[0;32m<ipython-input-23-2537e06c4b99>\u001b[0m in \u001b[0;36m<module>\u001b[0;34m\u001b[0m\n\u001b[0;32m----> 1\u001b[0;31m \u001b[0mchecker\u001b[0m\u001b[0;34m.\u001b[0m\u001b[0mcheck_all\u001b[0m\u001b[0;34m(\u001b[0m\u001b[0;34m)\u001b[0m\u001b[0;34m\u001b[0m\u001b[0;34m\u001b[0m\u001b[0m\n\u001b[0m",
      "\u001b[0;32m~/Desktop/Ahfeng-code/checker.py\u001b[0m in \u001b[0;36mcheck_all\u001b[0;34m(self)\u001b[0m\n\u001b[1;32m    468\u001b[0m         \u001b[0mself\u001b[0m\u001b[0;34m.\u001b[0m\u001b[0mstiffness_check\u001b[0m\u001b[0;34m(\u001b[0m\u001b[0;34m)\u001b[0m\u001b[0;34m\u001b[0m\u001b[0;34m\u001b[0m\u001b[0m\n\u001b[1;32m    469\u001b[0m         \u001b[0mself\u001b[0m\u001b[0;34m.\u001b[0m\u001b[0mlocal_stability_check\u001b[0m\u001b[0;34m(\u001b[0m\u001b[0;34m)\u001b[0m\u001b[0;34m\u001b[0m\u001b[0;34m\u001b[0m\u001b[0m\n\u001b[0;32m--> 470\u001b[0;31m         \u001b[0mself\u001b[0m\u001b[0;34m.\u001b[0m\u001b[0mfatigue_check\u001b[0m\u001b[0;34m(\u001b[0m\u001b[0;34m)\u001b[0m\u001b[0;34m\u001b[0m\u001b[0;34m\u001b[0m\u001b[0m\n\u001b[0m\u001b[1;32m    471\u001b[0m         \u001b[0mself\u001b[0m\u001b[0;34m.\u001b[0m\u001b[0moverall_stability_check\u001b[0m\u001b[0;34m(\u001b[0m\u001b[0;34m)\u001b[0m\u001b[0;34m\u001b[0m\u001b[0;34m\u001b[0m\u001b[0m\n\u001b[1;32m    472\u001b[0m         \u001b[0mself\u001b[0m\u001b[0;34m.\u001b[0m\u001b[0mstrength_check\u001b[0m\u001b[0;34m(\u001b[0m\u001b[0;34m)\u001b[0m\u001b[0;34m\u001b[0m\u001b[0;34m\u001b[0m\u001b[0m\n",
      "\u001b[0;32m~/Desktop/Ahfeng-code/checker.py\u001b[0m in \u001b[0;36mfatigue_check\u001b[0;34m(self)\u001b[0m\n\u001b[1;32m    113\u001b[0m         \u001b[0mnot_qualified_units_nums\u001b[0m \u001b[0;34m=\u001b[0m \u001b[0;34m[\u001b[0m\u001b[0;34m]\u001b[0m\u001b[0;34m\u001b[0m\u001b[0;34m\u001b[0m\u001b[0m\n\u001b[1;32m    114\u001b[0m         \u001b[0;32mfor\u001b[0m \u001b[0munit\u001b[0m \u001b[0;32min\u001b[0m \u001b[0mself\u001b[0m\u001b[0;34m.\u001b[0m\u001b[0mbridge\u001b[0m\u001b[0;34m.\u001b[0m\u001b[0munits\u001b[0m\u001b[0;34m.\u001b[0m\u001b[0mvalues\u001b[0m\u001b[0;34m(\u001b[0m\u001b[0;34m)\u001b[0m\u001b[0;34m:\u001b[0m\u001b[0;34m\u001b[0m\u001b[0;34m\u001b[0m\u001b[0m\n\u001b[0;32m--> 115\u001b[0;31m             \u001b[0mqualified\u001b[0m \u001b[0;34m=\u001b[0m \u001b[0mself\u001b[0m\u001b[0;34m.\u001b[0m\u001b[0mfatigue_check_unit\u001b[0m\u001b[0;34m(\u001b[0m\u001b[0munit\u001b[0m\u001b[0;34m)\u001b[0m\u001b[0;34m\u001b[0m\u001b[0;34m\u001b[0m\u001b[0m\n\u001b[0m\u001b[1;32m    116\u001b[0m             \u001b[0mqualities\u001b[0m\u001b[0;34m.\u001b[0m\u001b[0mappend\u001b[0m\u001b[0;34m(\u001b[0m\u001b[0mqualified\u001b[0m\u001b[0;34m)\u001b[0m\u001b[0;34m\u001b[0m\u001b[0;34m\u001b[0m\u001b[0m\n\u001b[1;32m    117\u001b[0m \u001b[0;34m\u001b[0m\u001b[0m\n",
      "\u001b[0;32m~/Desktop/Ahfeng-code/checker.py\u001b[0m in \u001b[0;36mfatigue_check_unit\u001b[0;34m(self, unit)\u001b[0m\n\u001b[1;32m     76\u001b[0m             \u001b[0mA_j\u001b[0m \u001b[0;34m=\u001b[0m \u001b[0munit\u001b[0m\u001b[0;34m.\u001b[0m\u001b[0mA_j\u001b[0m\u001b[0;34m\u001b[0m\u001b[0;34m\u001b[0m\u001b[0m\n\u001b[1;32m     77\u001b[0m \u001b[0;34m\u001b[0m\u001b[0m\n\u001b[0;32m---> 78\u001b[0;31m             \u001b[0msigma_max\u001b[0m \u001b[0;34m=\u001b[0m \u001b[0;34m(\u001b[0m\u001b[0mpos_max\u001b[0m \u001b[0;34m*\u001b[0m \u001b[0;34m(\u001b[0m\u001b[0;36m1\u001b[0m \u001b[0;34m+\u001b[0m \u001b[0mmu_f\u001b[0m\u001b[0;34m)\u001b[0m \u001b[0;34m+\u001b[0m \u001b[0mself\u001b[0m\u001b[0;34m.\u001b[0m\u001b[0mh\u001b[0m\u001b[0;34m)\u001b[0m \u001b[0;34m/\u001b[0m \u001b[0mA_j\u001b[0m\u001b[0;34m\u001b[0m\u001b[0;34m\u001b[0m\u001b[0m\n\u001b[0m\u001b[1;32m     79\u001b[0m             \u001b[0msigma_min\u001b[0m \u001b[0;34m=\u001b[0m \u001b[0;34m(\u001b[0m\u001b[0mneg_min\u001b[0m \u001b[0;34m*\u001b[0m \u001b[0;34m(\u001b[0m\u001b[0;36m1\u001b[0m \u001b[0;34m+\u001b[0m \u001b[0mmu_f\u001b[0m\u001b[0;34m)\u001b[0m \u001b[0;34m+\u001b[0m \u001b[0mself\u001b[0m\u001b[0;34m.\u001b[0m\u001b[0mh\u001b[0m\u001b[0;34m)\u001b[0m \u001b[0;34m/\u001b[0m \u001b[0mA_j\u001b[0m\u001b[0;34m\u001b[0m\u001b[0;34m\u001b[0m\u001b[0m\n\u001b[1;32m     80\u001b[0m             \u001b[0msigma_max\u001b[0m\u001b[0;34m,\u001b[0m \u001b[0msigma_min\u001b[0m \u001b[0;34m=\u001b[0m \u001b[0mnp\u001b[0m\u001b[0;34m.\u001b[0m\u001b[0maround\u001b[0m\u001b[0;34m(\u001b[0m\u001b[0msigma_max\u001b[0m\u001b[0;34m,\u001b[0m \u001b[0mdecimals\u001b[0m\u001b[0;34m=\u001b[0m\u001b[0;36m3\u001b[0m\u001b[0;34m)\u001b[0m\u001b[0;34m,\u001b[0m \u001b[0mnp\u001b[0m\u001b[0;34m.\u001b[0m\u001b[0maround\u001b[0m\u001b[0;34m(\u001b[0m\u001b[0msigma_min\u001b[0m\u001b[0;34m,\u001b[0m \u001b[0mdecimals\u001b[0m\u001b[0;34m=\u001b[0m\u001b[0;36m3\u001b[0m\u001b[0;34m)\u001b[0m\u001b[0;34m\u001b[0m\u001b[0;34m\u001b[0m\u001b[0m\n",
      "\u001b[0;31mAttributeError\u001b[0m: 'Checker' object has no attribute 'h'"
     ]
    }
   ],
   "source": [
    "checker.check_all()"
   ]
  },
  {
   "cell_type": "code",
   "execution_count": null,
   "metadata": {},
   "outputs": [],
   "source": []
  }
 ],
 "metadata": {
  "kernelspec": {
   "display_name": "Python 3",
   "language": "python",
   "name": "python3"
  },
  "language_info": {
   "codemirror_mode": {
    "name": "ipython",
    "version": 3
   },
   "file_extension": ".py",
   "mimetype": "text/x-python",
   "name": "python",
   "nbconvert_exporter": "python",
   "pygments_lexer": "ipython3",
   "version": "3.7.3"
  }
 },
 "nbformat": 4,
 "nbformat_minor": 2
}
